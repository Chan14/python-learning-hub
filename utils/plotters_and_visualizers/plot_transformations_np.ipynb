{
 "cells": [
  {
   "cell_type": "code",
   "execution_count": null,
   "id": "ad4ae597",
   "metadata": {},
   "outputs": [
    {
     "name": "stdout",
     "output_type": "stream",
     "text": [
      "Adjust the sliders below to see the effect of linear transformations on the 3D vector.\n",
      "The blue vector is the original, and the orange vector is the transformed one.\n",
      "Check 'Show Transformed Grid' to visualize how the entire space is transformed.\n"
     ]
    },
    {
     "data": {
      "application/vnd.jupyter.widget-view+json": {
       "model_id": "763e0245fe584fcfb79aee36c702ab7e",
       "version_major": 2,
       "version_minor": 0
      },
      "text/plain": [
       "interactive(children=(FloatSlider(value=1.0, description='m11', max=4.0, min=-4.0), FloatSlider(value=0.0, des…"
      ]
     },
     "metadata": {},
     "output_type": "display_data"
    },
    {
     "data": {
      "text/plain": [
       "<function __main__.plot_transformed_3d(m11, m12, m13, m21, m22, m23, m31, m32, m33, show_grid)>"
      ]
     },
     "execution_count": 1,
     "metadata": {},
     "output_type": "execute_result"
    }
   ],
   "source": [
    "# Example of a 2D Transformation\n",
    "import numpy as np\n",
    "# import plotly.graph_objects as gos\n",
    "from IPython.display import display\n",
    "from ipywidgets import interact, FloatSlider, Checkbox\n",
    "from plot_vectors import plot_vectors_2d_plotly, plot_vectors_3d_plotly\n",
    "\n",
    "# Original vector and standard basis vectors\n",
    "original_vec_2d = np.array([2, 1])\n",
    "standard_basis_2d = [np.array([1, 0]), np.array([0, 1])]\n",
    "\n",
    "\n",
    "def plot_transformed_2d(m11, m12, m21, m22, show_grid):\n",
    "    transformation_matrix_2d = np.array([[m11, m12], [m21, m22]])\n",
    "\n",
    "    transformed_vec_2d = transformation_matrix_2d @ original_vec_2d\n",
    "    transformed_basis_2d = [transformation_matrix_2d @ b for b in standard_basis_2d]\n",
    "\n",
    "    print(f\"Transformation Matrix:\\n{transformation_matrix_2d}\")\n",
    "    print(f\"Original Vector: {original_vec_2d}\")\n",
    "    print(f\"Transformed Vector: {transformed_vec_2d}\")\n",
    "\n",
    "    plot_vectors_2d_plotly(\n",
    "        [original_vec_2d, transformed_vec_2d],\n",
    "        show_transformed_grid=show_grid,\n",
    "        basis_vectors=transformed_basis_2d,\n",
    "        title=\"2D Linear Transformation\",\n",
    "    )\n",
    "\n",
    "\n",
    "# Create sliders for the matrix elements and a toggle for the grid\n",
    "# sliders = [\n",
    "#     FloatSlider(min=-2, max=2, step=0.1, value=1, description=f'm{i+1}{j+1}')\n",
    "#     for i in range(2) for j in range(2)\n",
    "# ]\n",
    "# grid_toggle = widgets.Checkbox(value=False, description='Show Transformed Grid')\n",
    "\n",
    "# # In a Jupyter notebook, this will create an interactive plot\n",
    "# # interact(plot_transformed_2d, m11=sliders[0], m12=sliders[1], m21=sliders[2], m22=sliders[3], show_grid=grid_toggle);\n",
    "# (Uncomment the above lines and run in Jupyter to see it in action)\n",
    "\n",
    "\n",
    "# Example of a 3D Transformation\n",
    "# (Similar structure to 2D, but with a 3x3 matrix and 3 basis vectors)\n",
    "# Define the original vector and standard basis vectors\n",
    "original_vec_3d = np.array([1, 2, 3])\n",
    "standard_basis_3d = [np.array([1, 0, 0]), np.array([0, 1, 0]), np.array([0, 0, 1])]\n",
    "\n",
    "\n",
    "# This is the function that will be called by the ipywidgets `interact`\n",
    "def plot_transformed_3d(m11, m12, m13, m21, m22, m23, m31, m32, m33, show_grid):\n",
    "    \"\"\"\n",
    "    Applies a 3D linear transformation and plots the original vector,\n",
    "    the transformed vector, and optionally the transformed grid.\n",
    "\n",
    "    Args for sliders:\n",
    "        m_ij (float): Elements of the 3x3 transformation matrix.\n",
    "        show_grid (bool): Flag to show or hide the transformed grid.\n",
    "    \"\"\"\n",
    "\n",
    "    transformation_matrix_3d = np.array(\n",
    "        [[m11, m12, m13], [m21, m22, m23], [m31, m32, m33]]\n",
    "    )\n",
    "\n",
    "    transformed_vec_3d = transformation_matrix_3d @ original_vec_3d\n",
    "    transformed_basis_3d = [transformation_matrix_3d @ b for b in standard_basis_3d]\n",
    "\n",
    "    print(f\"Transformation Matrix:\\n{transformation_matrix_3d}\")\n",
    "    print(f\"Original Vector: {original_vec_3d}\")\n",
    "    print(f\"Transformed Vector: {transformed_vec_3d}\")\n",
    "\n",
    "    plot_vectors_3d_plotly(\n",
    "        [original_vec_3d, transformed_vec_3d],\n",
    "        show_transformed_grid=show_grid,\n",
    "        basis_vectors=transformed_basis_3d,\n",
    "        title=\"3D Linear Transformation\",\n",
    "    )\n",
    "\n",
    "\n",
    "# Similar interactive setup as 2D with 9 sliders for the 3x3 matrix\n",
    "# (Uncomment and set up sliders/toggle in Jupyter for interactive use)\n",
    "# Create sliders for the matrix elements and a toggle for the grid\n",
    "# We use a default range for the matrix elements to allow for common transformations\n",
    "sliders = {\n",
    "    \"m11\": FloatSlider(min=-4, max=4, step=0.1, value=1, description=\"m11\"),\n",
    "    \"m12\": FloatSlider(min=-4, max=4, step=0.1, value=0, description=\"m12\"),\n",
    "    \"m13\": FloatSlider(min=-4, max=4, step=0.1, value=0, description=\"m13\"),\n",
    "    \"m21\": FloatSlider(min=-4, max=4, step=0.1, value=0, description=\"m21\"),\n",
    "    \"m22\": FloatSlider(min=-4, max=4, step=0.1, value=1, description=\"m22\"),\n",
    "    \"m23\": FloatSlider(min=-4, max=4, step=0.1, value=0, description=\"m23\"),\n",
    "    \"m31\": FloatSlider(min=-4, max=4, step=0.1, value=0, description=\"m31\"),\n",
    "    \"m32\": FloatSlider(min=-4, max=4, step=0.1, value=0, description=\"m32\"),\n",
    "    \"m33\": FloatSlider(min=-4, max=4, step=0.1, value=1, description=\"m33\"),\n",
    "    \"show_grid\": Checkbox(value=False, description=\"Show Transformed Grid\"),\n",
    "}\n",
    "\n",
    "# Use ipywidgets.interact to create the interactive controls\n",
    "print(\n",
    "    \"Adjust the sliders below to see the effect of linear transformations on the 3D vector.\"\n",
    ")\n",
    "print(\"The blue vector is the original, and the orange vector is the transformed one.\")\n",
    "print(\"Check 'Show Transformed Grid' to visualize how the entire space is transformed.\")\n",
    "interact(plot_transformed_3d, **sliders)\n"
   ]
  }
 ],
 "metadata": {
  "kernelspec": {
   "display_name": ".venv",
   "language": "python",
   "name": "python3"
  },
  "language_info": {
   "codemirror_mode": {
    "name": "ipython",
    "version": 3
   },
   "file_extension": ".py",
   "mimetype": "text/x-python",
   "name": "python",
   "nbconvert_exporter": "python",
   "pygments_lexer": "ipython3",
   "version": "3.11.9"
  }
 },
 "nbformat": 4,
 "nbformat_minor": 5
}
