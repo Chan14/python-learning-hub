{
 "cells": [
  {
   "cell_type": "code",
   "execution_count": null,
   "id": "07b5b750",
   "metadata": {},
   "outputs": [],
   "source": [
    "from ipywidgets import interact, FloatSlider\n",
    "from IPython.display import display\n",
    "import numpy as np\n",
    "from plot_vectors import plot_vectors_2d_plotly, plot_vectors_3d_plotly\n",
    "\n",
    "\n",
    "# Define your original vector\n",
    "original_vec = np.array([1, 2, 3]) # For 2D\n",
    "# original_vec = np.array([1, 2, 3]) # For 3D\n",
    "\n",
    "def plot_scaled_vector(scale_factor):\n",
    "    scaled_vec = scale_factor * original_vec\n",
    "    print(f\"Scaled Vector: {scaled_vec}\")\n",
    "    # Choose the appropriate plotting function based on dimension\n",
    "    if len(original_vec) == 2:\n",
    "        plot_vectors_2d_plotly([original_vec, scaled_vec], title=f\"Scaled Vector (Scale: {scale_factor})\")\n",
    "    else:\n",
    "        plot_vectors_3d_plotly([original_vec, scaled_vec], title=f\"Scaled Vector (Scale: {scale_factor})\")\n",
    "\n",
    "\n",
    "# Create a slider for the scale factor\n",
    "scale_slider = FloatSlider(min=-3, max=3, step=0.1, value=1, description=\"Scale Factor\")\n",
    "# plot_scaled_vector(2)\n",
    "\n",
    "# Link the slider to the plotting function\n",
    "# In a Jupyter notebook, this will create an interactive plot\n",
    "interact(plot_scaled_vector, scale_factor=scale_slider);\n",
    "# (Uncomment the above line and run in Jupyter to see it in action)"
   ]
  },
  {
   "cell_type": "code",
   "execution_count": null,
   "id": "da6911d5-ae1e-478a-a217-af19af533036",
   "metadata": {},
   "outputs": [],
   "source": []
  }
 ],
 "metadata": {
  "kernelspec": {
   "display_name": ".venv",
   "language": "python",
   "name": "python3"
  },
  "language_info": {
   "codemirror_mode": {
    "name": "ipython",
    "version": 3
   },
   "file_extension": ".py",
   "mimetype": "text/x-python",
   "name": "python",
   "nbconvert_exporter": "python",
   "pygments_lexer": "ipython3",
   "version": "3.11.9"
  }
 },
 "nbformat": 4,
 "nbformat_minor": 5
}
